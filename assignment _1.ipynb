{
 "cells": [
  {
   "cell_type": "markdown",
   "id": "8e2ecf6c",
   "metadata": {},
   "source": [
    "### Q.1) In the below elements which of them are values or an expression? eg:- values can be integer or string and expressions will be mathematical operators.\n",
    "    *\n",
    "    'hello'\n",
    "    -87.8\n",
    "    -\n",
    "    /\n",
    "    +\n",
    "    6"
   ]
  },
  {
   "cell_type": "code",
   "execution_count": 1,
   "id": "15795437",
   "metadata": {},
   "outputs": [],
   "source": [
    "integer=6 \n",
    "flot=-87.8\n",
    "mathematical operators= *-/+\n",
    "string='hello'"
   ]
  },
  {
   "cell_type": "markdown",
   "id": "e42383fc",
   "metadata": {},
   "source": [
    "# Q.2) What is the difference between string and variable?"
   ]
  },
  {
   "cell_type": "code",
   "execution_count": 4,
   "id": "99caf31a",
   "metadata": {},
   "outputs": [],
   "source": [
    "variable:- A Python variable is name given to a location in computers memory where value to used in program can be  stored.\n",
    "\n",
    "string :- A Python string  is a collection of alphabets, words,characters.    "
   ]
  },
  {
   "cell_type": "markdown",
   "id": "92515c58",
   "metadata": {},
   "source": [
    "# Q.3) Describe three different data types."
   ]
  },
  {
   "cell_type": "code",
   "execution_count": null,
   "id": "890ad751",
   "metadata": {},
   "outputs": [],
   "source": [
    "Data Types:- Type of value that can be stored in an variable is know as its data type.\n",
    "    \n",
    "    int:- Used to represent whole numbers.\n",
    "        eg.a=25,-25\n",
    "    float:- used to real /floating numbers.\n",
    "        eg.a=2.5,-2.5\n",
    "    complex:- used to complex numbers. (numbers contains real and imaginary )\n",
    "        eg. 4+5j\n",
    "        "
   ]
  },
  {
   "cell_type": "markdown",
   "id": "ef88fb36",
   "metadata": {},
   "source": [
    "# Q.4) What is an expression made up of? What do all expressions do?"
   ]
  },
  {
   "cell_type": "code",
   "execution_count": 20,
   "id": "b75df4b8",
   "metadata": {},
   "outputs": [
    {
     "name": "stdout",
     "output_type": "stream",
     "text": [
      "20\n"
     ]
    }
   ],
   "source": [
    "#expressions:-A combination of operands and operators is called an expression.\n",
    "   \n",
    "x=10\n",
    "x=x+10 # an expression\n",
    "\n",
    "print(x)"
   ]
  },
  {
   "cell_type": "markdown",
   "id": "b57e71f7",
   "metadata": {},
   "source": [
    "# Q.5) This assignment statements, like spam = 10. What is the difference between an expression and a statement?"
   ]
  },
  {
   "cell_type": "code",
   "execution_count": 27,
   "id": "8090417a",
   "metadata": {},
   "outputs": [
    {
     "name": "stdout",
     "output_type": "stream",
     "text": [
      "20\n"
     ]
    }
   ],
   "source": [
    "#statement:-doesn't return anything.\n",
    "#expression:- A combination of values and functions that are combined to create a new value.  \n",
    "spam=10 # statement\n",
    "spam=spam+10 # expression\n",
    "print(spam)"
   ]
  },
  {
   "cell_type": "markdown",
   "id": "edfdc5a6",
   "metadata": {},
   "source": [
    "# Q.6) After running the following code, what does the variable bacon contain?\n",
    "bacon = 22\n",
    "\n",
    "bacon + 1"
   ]
  },
  {
   "cell_type": "code",
   "execution_count": 33,
   "id": "2bccb44d",
   "metadata": {},
   "outputs": [
    {
     "data": {
      "text/plain": [
       "23"
      ]
     },
     "execution_count": 33,
     "metadata": {},
     "output_type": "execute_result"
    }
   ],
   "source": [
    "bacon=22\n",
    "bacon+1"
   ]
  },
  {
   "cell_type": "markdown",
   "id": "03c854e3",
   "metadata": {},
   "source": [
    "# Q.7) What should the values of the following two terms be?\n",
    "'spam'+ 'spamspam'\n",
    "\n",
    "'spam'*3"
   ]
  },
  {
   "cell_type": "code",
   "execution_count": 35,
   "id": "fe654915",
   "metadata": {},
   "outputs": [
    {
     "name": "stdout",
     "output_type": "stream",
     "text": [
      "spamspamspam\n",
      "spamspamspam\n"
     ]
    }
   ],
   "source": [
    "print('spam'+'spamspam')\n",
    "print('spam'*3)"
   ]
  },
  {
   "cell_type": "markdown",
   "id": "6375dcee",
   "metadata": {},
   "source": [
    "# Q.8) Why is eggs a valid variable name while 100 is invalid?"
   ]
  },
  {
   "cell_type": "code",
   "execution_count": 37,
   "id": "597b671f",
   "metadata": {},
   "outputs": [],
   "source": [
    "because eggs are star with the alphabet that why is a valid variable name . and othecase 100 is start with the numeric number that why we can not a variable name "
   ]
  },
  {
   "cell_type": "markdown",
   "id": "510e268f",
   "metadata": {},
   "source": [
    "# Q.9) What three functions can be used to get the integer, floating-point number, or string version of a value?"
   ]
  },
  {
   "cell_type": "code",
   "execution_count": null,
   "id": "3d0588ed",
   "metadata": {},
   "outputs": [],
   "source": [
    "int():- use this function for getting integer no.\n",
    "float() :- use this function for getting floatting no.\n",
    "str():- use this function for getting strign variable.     "
   ]
  },
  {
   "cell_type": "markdown",
   "id": "cd74186c",
   "metadata": {},
   "source": [
    "# Q.10) Why does this expression cause an error? How can you fix it?\n",
    "'I have eaten' + 99 +  'burritos.'"
   ]
  },
  {
   "cell_type": "code",
   "execution_count": null,
   "id": "9f9bc5b3",
   "metadata": {},
   "outputs": [],
   "source": [
    "concatenate happen only same data type"
   ]
  },
  {
   "cell_type": "code",
   "execution_count": 61,
   "id": "42c377bf",
   "metadata": {},
   "outputs": [
    {
     "data": {
      "text/plain": [
       "'l have eaten99burritos.'"
      ]
     },
     "execution_count": 61,
     "metadata": {},
     "output_type": "execute_result"
    }
   ],
   "source": [
    " 'l have eaten'+str(99)+'burritos.'"
   ]
  },
  {
   "cell_type": "code",
   "execution_count": null,
   "id": "220cac53",
   "metadata": {},
   "outputs": [],
   "source": []
  },
  {
   "cell_type": "code",
   "execution_count": null,
   "id": "1c9cc58c",
   "metadata": {},
   "outputs": [],
   "source": []
  }
 ],
 "metadata": {
  "kernelspec": {
   "display_name": "Python 3 (ipykernel)",
   "language": "python",
   "name": "python3"
  },
  "language_info": {
   "codemirror_mode": {
    "name": "ipython",
    "version": 3
   },
   "file_extension": ".py",
   "mimetype": "text/x-python",
   "name": "python",
   "nbconvert_exporter": "python",
   "pygments_lexer": "ipython3",
   "version": "3.9.12"
  }
 },
 "nbformat": 4,
 "nbformat_minor": 5
}
